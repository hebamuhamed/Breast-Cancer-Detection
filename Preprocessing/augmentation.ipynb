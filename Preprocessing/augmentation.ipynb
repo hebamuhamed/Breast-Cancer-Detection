{
 "cells": [
  {
   "cell_type": "code",
   "execution_count": 1,
   "metadata": {},
   "outputs": [],
   "source": [
    "import os\n",
    "import cv2\n",
    "import numpy as np\n",
    "import albumentations as A\n",
    "from tqdm import tqdm"
   ]
  },
  {
   "cell_type": "code",
   "execution_count": 17,
   "metadata": {},
   "outputs": [],
   "source": [
    "import imgaug.augmenters as iaa\n",
    "import cv2\n",
    "import os\n",
    "\n",
    "# Define augmentation sequence\n",
    "seq = iaa.Sequential([\n",
    "    iaa.Fliplr(0.5),  # horizontal flips\n",
    "    iaa.Crop(percent=(0, 0.25)),  # random crops\n",
    "    iaa.GaussianBlur(sigma=(0, 3.0)),  # Gaussian blur with random sigma\n",
    "    iaa.Affine(scale=(0.5, 1.5), translate_percent=(-0.1, 0.1), rotate=(-10, 10))  # affine transforms\n",
    "])\n"
   ]
  },
  {
   "cell_type": "code",
   "execution_count": null,
   "metadata": {},
   "outputs": [],
   "source": [
    "img_dir = r\"D:\\College\\Fourth Year\\Grad Project\\Code\\dataset\\ognpectwithoutaug\\4\" #replace these paths are needed\n",
    "output_dir = r\"D:\\College\\Fourth Year\\Grad Project\\Code\\dataset\\diffaug4\"\n",
    "for file_name in os.listdir(img_dir):\n",
    "    if file_name.endswith(\".jpg\") or file_name.endswith(\".png\"):\n",
    "        image = cv2.imread(os.path.join(img_dir, file_name))\n",
    "        augmented_images = [seq(image=image) for _ in range(5)]  # generate 5 augmented images per original image\n",
    "        for i, augmented_image in enumerate(augmented_images):\n",
    "            output_path = os.path.join(output_dir, f\"{file_name.split('.')[0]}_{i}.jpg\")  # create unique file names\n",
    "            cv2.imwrite(output_path, augmented_image)"
   ]
  }
 ],
 "metadata": {
  "kernelspec": {
   "display_name": "tf",
   "language": "python",
   "name": "python3"
  },
  "language_info": {
   "codemirror_mode": {
    "name": "ipython",
    "version": 3
   },
   "file_extension": ".py",
   "mimetype": "text/x-python",
   "name": "python",
   "nbconvert_exporter": "python",
   "pygments_lexer": "ipython3",
   "version": "3.9.16"
  },
  "orig_nbformat": 4,
  "vscode": {
   "interpreter": {
    "hash": "81027876cacb8d819d50dce95224613e554c66d3fb73c2fd036a29e5b1aef152"
   }
  }
 },
 "nbformat": 4,
 "nbformat_minor": 2
}

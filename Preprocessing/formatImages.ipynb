{
 "cells": [
  {
   "cell_type": "code",
   "execution_count": null,
   "metadata": {},
   "outputs": [],
   "source": [
    "import os\n",
    "import numpy as np\n",
    "import pandas as pd\n",
    "import splitfolders\n",
    "import shutil\n",
    "import cv2\n",
    "import matplotlib.pyplot as plt\n",
    "import xlrd"
   ]
  },
  {
   "cell_type": "code",
   "execution_count": null,
   "metadata": {},
   "outputs": [],
   "source": [
    "folder_path = r\"D:\\College\\Fourth Year\\Grad Project\\Code\\dataset\\nopectncrop\\5\"  # Replace with the path to your folder\n",
    "file_names = os.listdir(folder_path)\n",
    "name_parts = []\n",
    "for file_name in file_names:\n",
    "    parts = file_name.split(\".\")\n",
    "    first_part = parts[0]\n",
    "    first_part=first_part.split(\"_\")\n",
    "    first_part=first_part[0]\n",
    "    name_parts.append(first_part)\n",
    "\n",
    "print(name_parts)"
   ]
  },
  {
   "cell_type": "code",
   "execution_count": null,
   "metadata": {},
   "outputs": [],
   "source": [
    "original = r'D:\\College\\Fourth Year\\Grad Project\\Code\\dataset\\nopectncrop\\5'\n",
    "file_names = os.listdir(original)\n",
    "target = r'D:\\College\\Fourth Year\\Grad Project\\Code\\dataset\\ognnopectwithaugof5\\5'\n",
    "for file_name in file_names:\n",
    "    for part in name_parts:\n",
    "        if part in file_name:\n",
    "            new_file_name = \"pc\" + file_name #adding string to image name to prevent removing of original images\n",
    "            source_path = os.path.join(original, file_name)\n",
    "            target_path = os.path.join(target, new_file_name)\n",
    "            shutil.copyfile(source_path, target_path)\n",
    "            break"
   ]
  },
  {
   "cell_type": "code",
   "execution_count": null,
   "metadata": {},
   "outputs": [],
   "source": [
    "original = r'D:\\College\\Fourth Year\\Grad Project\\Code\\singleImages'\n",
    "file_names = os.listdir(original)\n",
    "target = r'D:\\College\\Fourth Year\\Grad Project\\Code\\split\\val\\benign'\n",
    "for file_name in file_names:\n",
    "    for part in name_parts:\n",
    "        if part in file_name:\n",
    "            new_file_name = \"ogM_\" + file_name\n",
    "            source_path = os.path.join(original, file_name)\n",
    "            target_path = os.path.join(target, new_file_name)\n",
    "            shutil.copyfile(source_path, target_path)\n",
    "            break"
   ]
  },
  {
   "cell_type": "code",
   "execution_count": null,
   "metadata": {},
   "outputs": [],
   "source": [
    "data=pd.read_csv(r'D:\\College\\Fourth Year\\Grad Project\\Code\\sheets\\finding_annotations.csv') #change path to where you have the excell sheet\n",
    "df=pd.DataFrame(data)\n",
    "df=df.drop(['study_id','series_id',\n",
    "             'finding_birads','view_position',\n",
    "             'height','width','laterality',\n",
    "             'breast_density','xmin','xmax','ymin','ymax',\n",
    "             'finding_categories','split'], \n",
    "             axis=1)\n",
    "df['breast_birads'] = df['breast_birads'].replace(['BI-RADS 1','BI-RADS 2',\n",
    "                                                   'BI-RADS 3','BI-RADS 4',\n",
    "                                                    'BI-RADS 5'], \n",
    "                                                    ['1','2','3','4','5'])\n",
    "df=df.drop_duplicates('image_id')\n",
    "df=df.dropna()"
   ]
  },
  {
   "cell_type": "code",
   "execution_count": null,
   "metadata": {},
   "outputs": [],
   "source": [
    "df.describe()"
   ]
  },
  {
   "attachments": {},
   "cell_type": "markdown",
   "metadata": {},
   "source": [
    "Moving Images into Single Folder"
   ]
  },
  {
   "cell_type": "code",
   "execution_count": null,
   "metadata": {},
   "outputs": [],
   "source": [
    "Root = r'D:\\College\\Fourth Year\\Grad Project\\data\\img3'\n",
    "TargetFolder = r'D:\\College\\Fourth Year\\Grad Project\\Code\\singleImages'\n",
    "for root, dirs, files in os.walk((os.path.normpath(Root)), topdown=False):\n",
    "        for name in files:\n",
    "            SourceFolder = os.path.join(root,name)\n",
    "            shutil.copy2(SourceFolder, TargetFolder)"
   ]
  },
  {
   "attachments": {},
   "cell_type": "markdown",
   "metadata": {},
   "source": [
    "Getting Names of Images"
   ]
  },
  {
   "cell_type": "code",
   "execution_count": null,
   "metadata": {},
   "outputs": [],
   "source": [
    "images=[]\n",
    "for image in os.listdir(r'D:\\College\\Fourth Year\\Grad Project\\Code\\dataset\\all'):\n",
    "    im=image.removesuffix('.jpg')\n",
    "    images.append(im)"
   ]
  },
  {
   "attachments": {},
   "cell_type": "markdown",
   "metadata": {},
   "source": [
    "Removing unused rows (images not used)"
   ]
  },
  {
   "cell_type": "code",
   "execution_count": null,
   "metadata": {},
   "outputs": [],
   "source": [
    "df=df[df.image_id.isin(images)]"
   ]
  },
  {
   "cell_type": "code",
   "execution_count": null,
   "metadata": {},
   "outputs": [],
   "source": [
    "b1=df.loc[df['breast_birads'] == '1']\n",
    "b2=df.loc[df['breast_birads'] == '2']\n",
    "b3=df.loc[df['breast_birads'] == '3']\n",
    "b4=df.loc[df['breast_birads'] == '4']\n",
    "b5=df.loc[df['breast_birads'] == '5']\n",
    "del b1['breast_birads']\n",
    "del b2['breast_birads']\n",
    "del b3['breast_birads']\n",
    "del b4['breast_birads']\n",
    "del b5['breast_birads']"
   ]
  },
  {
   "attachments": {},
   "cell_type": "markdown",
   "metadata": {},
   "source": [
    "Organizing Classes"
   ]
  },
  {
   "cell_type": "code",
   "execution_count": null,
   "metadata": {},
   "outputs": [],
   "source": [
    "b1array=np.array(b1)\n",
    "b2array=np.array(b2)\n",
    "b3array=np.array(b3)\n",
    "b4array=np.array(b4)\n",
    "b5array=np.array(b5)"
   ]
  },
  {
   "cell_type": "code",
   "execution_count": null,
   "metadata": {},
   "outputs": [],
   "source": [
    "# suffixAdd= [sub + str for sub in b1array]\n",
    "original = r'D:\\College\\Fourth Year\\Grad Project\\Code\\singleImages'\n",
    "file_names = os.listdir(original)\n",
    "target = r'D:\\College\\Fourth Year\\Grad Project\\Code\\split\\og for test\\malignant'\n",
    "for root, dirs, files in os.walk((os.path.normpath(original)), topdown=False):\n",
    "        for name in files:\n",
    "            if name in name_parts:\n",
    "                SourceFolder = os.path.join(root,name)\n",
    "                shutil.copy2(SourceFolder, target) "
   ]
  },
  {
   "attachments": {},
   "cell_type": "markdown",
   "metadata": {},
   "source": [
    "Split Images into Train-Test-Validate"
   ]
  },
  {
   "cell_type": "code",
   "execution_count": null,
   "metadata": {},
   "outputs": [],
   "source": [
    "input_folder = r\"D:\\College\\Fourth Year\\Grad Project\\Code\\split\"\n",
    "output = r\"D:\\College\\Fourth Year\\Grad Project\\Code\\sp2\"\n",
    "splitfolders.ratio(input_folder, output=output, seed=42, ratio=(.6, .2,.2))"
   ]
  },
  {
   "attachments": {},
   "cell_type": "markdown",
   "metadata": {},
   "source": [
    "Get All MLO View"
   ]
  },
  {
   "attachments": {},
   "cell_type": "markdown",
   "metadata": {},
   "source": [
    "Right laterality"
   ]
  },
  {
   "cell_type": "code",
   "execution_count": null,
   "metadata": {},
   "outputs": [],
   "source": [
    "data=pd.read_csv(r'D:\\College\\Fourth Year\\Grad Project\\Code\\sheets\\finding_annotations.csv') #change path to where you have the excell sheet\n",
    "df=pd.DataFrame(data)\n",
    "df=df.drop(['study_id', 'series_id','finding_birads','height','width','breast_density','breast_birads','xmin','ymin','xmax','ymax','finding_categories','split'], axis=1)\n",
    "df=df.drop_duplicates('image_id')\n",
    "df=df.dropna()\n",
    "images=[]\n",
    "for image in os.listdir(r'D:\\College\\Fourth Year\\Grad Project\\Code\\dataset\\all'):\n",
    "    im=image.removesuffix('.jpg')\n",
    "    images.append(im)\n",
    "df=df[df.image_id.isin(images)]\n",
    "df=df.loc[(df['view_position'] == 'MLO' )& (df['laterality'] == 'R')]\n",
    "del df['view_position']\n",
    "del df['laterality']\n",
    "dfarray=np.array(df)\n",
    "str='.jpg'\n",
    "suffixAdd= [sub + str for sub in dfarray]\n",
    "original = r'D:\\College\\Fourth Year\\Grad Project\\Code\\dataset\\all'\n",
    "target = r'D:\\College\\Fourth Year\\Grad Project\\Code\\dataset\\mlor'\n",
    "for root, dirs, files in os.walk((os.path.normpath(original)), topdown=False):\n",
    "        for name in files:\n",
    "            if name in suffixAdd:\n",
    "                SourceFolder = os.path.join(root,name)\n",
    "                shutil.copy2(SourceFolder, target)"
   ]
  },
  {
   "attachments": {},
   "cell_type": "markdown",
   "metadata": {},
   "source": [
    "Left Laterality"
   ]
  },
  {
   "cell_type": "code",
   "execution_count": null,
   "metadata": {},
   "outputs": [],
   "source": [
    "data=pd.read_csv(r'D:\\College\\Fourth Year\\Grad Project\\Code\\sheets\\finding_annotations.csv') #change path to where you have the excell sheet\n",
    "df=pd.DataFrame(data)\n",
    "df=df.drop(['study_id', 'series_id','finding_birads','height','width','breast_density','breast_birads','xmin','ymin','xmax','ymax','finding_categories','split'], axis=1)\n",
    "df=df.drop_duplicates('image_id')\n",
    "df=df.dropna()\n",
    "images=[]\n",
    "for image in os.listdir(r'D:\\College\\Fourth Year\\Grad Project\\Code\\dataset\\all'):\n",
    "    im=image.removesuffix('.jpg')\n",
    "    images.append(im)\n",
    "df=df[df.image_id.isin(images)]\n",
    "df=df.loc[(df['view_position'] == 'MLO' )& (df['laterality'] == 'L')]\n",
    "del df['view_position']\n",
    "del df['laterality']\n",
    "dfarray=np.array(df)\n",
    "str='.jpg'\n",
    "suffixAdd= [sub + str for sub in dfarray]\n",
    "original = r'D:\\College\\Fourth Year\\Grad Project\\Code\\dataset\\all'\n",
    "target = r'D:\\College\\Fourth Year\\Grad Project\\Code\\dataset\\mlol'\n",
    "for root, dirs, files in os.walk((os.path.normpath(original)), topdown=False):\n",
    "        for name in files:\n",
    "            if name in suffixAdd:\n",
    "                SourceFolder = os.path.join(root,name)\n",
    "                shutil.copy2(SourceFolder, target)"
   ]
  },
  {
   "attachments": {},
   "cell_type": "markdown",
   "metadata": {},
   "source": [
    "Get All CC View"
   ]
  },
  {
   "cell_type": "code",
   "execution_count": null,
   "metadata": {},
   "outputs": [],
   "source": [
    "data=pd.read_csv(r'D:\\College\\Fourth Year\\Grad Project\\Code\\sheets\\finding_annotations.csv') #change path to where you have the excell sheet\n",
    "df=pd.DataFrame(data)\n",
    "df=df.drop(['study_id', 'series_id','finding_birads','height','width','breast_density','breast_birads','laterality','xmin','ymin','xmax','ymax','finding_categories','split'], axis=1)\n",
    "df=df.drop_duplicates('image_id')\n",
    "df=df.dropna()\n",
    "images=[]\n",
    "for image in os.listdir(r'D:\\College\\Fourth Year\\Grad Project\\Code\\dataset\\all'):\n",
    "    im=image.removesuffix('.jpg')\n",
    "    images.append(im)\n",
    "df=df[df.image_id.isin(images)]\n",
    "df=df.loc[df['view_position'] == 'CC']\n",
    "del df['view_position']\n",
    "dfarray=np.array(df)\n",
    "str='.jpg'\n",
    "suffixAdd= [sub + str for sub in dfarray]\n",
    "original = r'D:\\College\\Fourth Year\\Grad Project\\Code\\dataset\\all'\n",
    "target = r'D:\\College\\Fourth Year\\Grad Project\\Code\\dataset\\cc'\n",
    "for root, dirs, files in os.walk((os.path.normpath(original)), topdown=False):\n",
    "        for name in files:\n",
    "            if name in suffixAdd:\n",
    "                SourceFolder = os.path.join(root,name)\n",
    "                shutil.copy2(SourceFolder, target)"
   ]
  },
  {
   "attachments": {},
   "cell_type": "markdown",
   "metadata": {},
   "source": [
    "Graphs For Data"
   ]
  },
  {
   "cell_type": "code",
   "execution_count": null,
   "metadata": {},
   "outputs": [],
   "source": [
    "import numpy as np\n",
    "import matplotlib.pyplot as plt\n",
    " \n",
    "  \n",
    "# creating the dataset\n",
    "data = {'1':1000, \n",
    "        '2':1034,\n",
    "        '3': 916, \n",
    "        '4':722,\n",
    "        '5':222}\n",
    "courses = list(data.keys())\n",
    "values = list(data.values())\n",
    "  \n",
    "fig = plt.figure(figsize = (10, 5))\n",
    " \n",
    "# creating the bar plot\n",
    "plt.bar(courses, values, color ='pink',\n",
    "        width = 0.4)\n",
    "\n",
    "plt.xlabel(\"Birads\")\n",
    "plt.ylabel(\"No. of Images\")\n",
    "plt.title(\"Vin-Dr Mammo\")\n",
    "plt.show()"
   ]
  },
  {
   "cell_type": "code",
   "execution_count": null,
   "metadata": {},
   "outputs": [],
   "source": [
    "import numpy as np\n",
    "import matplotlib.pyplot as plt\n",
    " \n",
    "  \n",
    "# creating the dataset\n",
    "data = {'Benign':5900, \n",
    "        'Malignant':5558}\n",
    "courses = list(data.keys())\n",
    "values = list(data.values())\n",
    "  \n",
    "fig = plt.figure(figsize = (6, 7))\n",
    " \n",
    "# creating the bar plot\n",
    "plt.bar(courses, values, color ='pink',\n",
    "        width = 0.4)\n",
    "\n",
    "plt.xlabel(\"Classes\")\n",
    "plt.ylabel(\"No. of Images\")\n",
    "plt.title(\"Vin-Dr Mammo\")\n",
    "plt.show()"
   ]
  }
 ],
 "metadata": {
  "kernelspec": {
   "display_name": "tf",
   "language": "python",
   "name": "python3"
  },
  "language_info": {
   "codemirror_mode": {
    "name": "ipython",
    "version": 3
   },
   "file_extension": ".py",
   "mimetype": "text/x-python",
   "name": "python",
   "nbconvert_exporter": "python",
   "pygments_lexer": "ipython3",
   "version": "3.9.16"
  },
  "orig_nbformat": 4
 },
 "nbformat": 4,
 "nbformat_minor": 2
}
